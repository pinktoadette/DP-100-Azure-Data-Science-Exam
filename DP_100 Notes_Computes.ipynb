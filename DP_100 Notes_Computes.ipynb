{
 "cells": [
  {
   "cell_type": "markdown",
   "metadata": {},
   "source": [
    "#### Notebook mainly focuses on terminoloy on Azure, methods available and process\n",
    "There is no machine learning calculation or model, any modeling will be denoted as model.py"
   ]
  },
  {
   "cell_type": "markdown",
   "metadata": {},
   "source": [
    "<h3>Environments vs Compute Targets</h3>\n",
    "- environment: for the script, includes all packages<br>\n",
    "- compute target: the env will be deployed and the script run\n",
    "\n",
    "Environment setup:\n",
    "- You can create an env from yml file.<br>\n",
    "- Then call it in your file\n",
    "<code>from azureml.core import Environment<br>\n",
    "env = Environment.from_conda_specification(name='training_environment',file_path='./conda.yml')</code>\n",
    "- can even call existing env <code>Environment.from_existing_conda_environment(name='training_environment', conda_environment_name='py_env')</code>\n",
    "\n",
    "\n",
    "<h5>Types of compute</h5>\n",
    "Azure Machine Learning supports multiple types of compute for experimentation and training. This enables you to select the most appropriate type of compute target for your particular needs.\n",
    "<br>\n",
    "<ul><li>Local compute - You can specify a local compute target for most processing tasks in Azure Machine Learning. This runs the experiment on the same compute target as the code used to initiate the experiment, which may be your physical workstation or a virtual machine such as an Azure Machine Learning compute instance on which you are running a notebook. Local compute is generally a great choice during development and testing with low to moderate volumes of data.</li>\n",
    "<li>Compute clusters - For experiment workloads with high scalability requirements, you can use Azure Machine Learning compute clusters; which are multi-node clusters of Virtual Machines that automatically scale up or down to meet demand. This is a cost-effective way to run experiments that need to handle large volumes of data or use parallel processing to distribute the workload and reduce the time it takes to run.</li>\n",
    "<li>Attached compute - If you already use an Azure-based compute environment for data science, such as a virtual machine or an Azure Databricks cluster, you can attach it to your Azure Machine Learning workspace and use it as a compute target for certain types of workload.</li>\n",
    "</ul>"
   ]
  },
  {
   "cell_type": "code",
   "execution_count": null,
   "metadata": {},
   "outputs": [],
   "source": []
  }
 ],
 "metadata": {
  "kernelspec": {
   "display_name": "Python 3",
   "language": "python",
   "name": "python3"
  },
  "language_info": {
   "codemirror_mode": {
    "name": "ipython",
    "version": 3
   },
   "file_extension": ".py",
   "mimetype": "text/x-python",
   "name": "python",
   "nbconvert_exporter": "python",
   "pygments_lexer": "ipython3",
   "version": "3.7.7"
  }
 },
 "nbformat": 4,
 "nbformat_minor": 2
}
